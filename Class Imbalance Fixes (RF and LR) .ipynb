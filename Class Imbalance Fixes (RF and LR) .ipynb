{
 "cells": [
  {
   "cell_type": "markdown",
   "metadata": {},
   "source": [
    "## Class Imbalance:\n",
    "\n",
    "Class Imbalance is a problem faced in classification related datasets especially in the financial industry. Most datasets related to fraud detection as well as credit card defaults have an imbalanced dataset. Our dataset is clearly imbalance as mentioned in the previous notebook with 86% of customers paying back and only 14% defaulting.\n",
    "\n",
    "To address the class imbalance, I have decided to use Class Weights with GridSearch on the two of the best performing models: Random Forest and Logistic Regression. \n",
    "\n",
    "The goal was to increase precision / recall for the minority class. "
   ]
  },
  {
   "cell_type": "code",
   "execution_count": 1,
   "metadata": {},
   "outputs": [],
   "source": [
    "import pandas as pd\n",
    "import numpy as np\n",
    "import scipy\n",
    "import matplotlib.pyplot as plt\n",
    "from sklearn import tree\n",
    "from IPython.display import Image\n",
    "import pydotplus\n",
    "import graphviz\n",
    "import random\n",
    "import re\n",
    "from sklearn.model_selection import train_test_split\n",
    "from sklearn.ensemble import RandomForestClassifier\n",
    "from sklearn.neighbors import KNeighborsClassifier\n",
    "from sklearn.metrics import accuracy_score\n",
    "import matplotlib.pyplot as plt\n",
    "import seaborn as sns\n",
    "%matplotlib inline\n",
    "from sklearn import linear_model,svm\n",
    "from sklearn.metrics import average_precision_score\n",
    "from sklearn.metrics import precision_recall_curve\n",
    "import warnings\n",
    "warnings.filterwarnings('ignore')\n",
    "%matplotlib inline"
   ]
  },
  {
   "cell_type": "code",
   "execution_count": 2,
   "metadata": {},
   "outputs": [],
   "source": [
    "df = pd.read_csv(\"loan.csv\", low_memory = False)"
   ]
  },
  {
   "cell_type": "markdown",
   "metadata": {},
   "source": [
    "## Data Cleaning:\n",
    "\n",
    "Plese refer to the previous notebook (linked above to see how / why the data was cleaned) "
   ]
  },
  {
   "cell_type": "code",
   "execution_count": 3,
   "metadata": {},
   "outputs": [],
   "source": [
    "df_loanstatus = df[(df['loan_status']== 'Fully Paid') | (df['loan_status'] == 'Charged Off')]\n",
    "bl = {'Fully Paid': 1, 'Charged Off' : 0}\n",
    "df_final = df_loanstatus.replace({'loan_status': bl})\n",
    "#Drops row if it does not have at least 35,000 values that are not NAN \n",
    "df_final = df_final.dropna(thresh = 35000, axis = 1)\n",
    "# A , B , C , D, E, F, G (A is the best and G is the worst)\n",
    "# A = 7, B = 6, C = 5, D = 4, E = 3, F = 2 , G = 1\n",
    "\n",
    "df_final['grade'] = df_final['grade'].map({'A': 7, 'B': 6, 'C': 5, 'D': 4, 'E': 3, 'F': 2, 'G': 1})\n",
    "df_final['emp_length'] = df['emp_length'].replace({'years':'','year':'',' ':'','<':'','\\+':'','n/a': 0, 'NaN' : 0, 'nan': 0}, regex = True)\n",
    "df_final['emp_length'].dropna(how = all)\n",
    "df_final['term'] = df['term'].replace({'months': '', 'month': '', 'n/a': '0', 'nan': 0}, regex = True)\n",
    "df_final['term'] = df_final['term'].apply(lambda x: int(x))\n",
    "df_final = df_final.dropna(axis = 1, how = 'all')\n",
    "features = ['funded_amnt','emp_length','annual_inc','home_ownership','grade',\n",
    "            'last_pymnt_amnt', 'loan_amnt', 'int_rate', 'open_acc',\n",
    "            'loan_status'] \n",
    "# Home Ownership is (Highest to Lowest in a way): Mortgage, Rent, Own, Other, None \n",
    "# Mortgage = 5 , Rent = 4, Own = 3, Other = 2, None = 1\n",
    "df_final['home_ownership'] = df_final['home_ownership'].map({'MORTGAGE': 5, 'RENT': 4, 'OWN': 3, 'OTHER': 2, 'NONE': 1})\n",
    "df_final = df_final.fillna(0)\n",
    "df_final['emp_length'] = df_final['emp_length'].apply(lambda x: int(x))\n",
    "\n",
    "df_final['funded_amnt'] = df_final['funded_amnt'].apply(lambda x: int(x))\n",
    "df_final['loan_amnt'] = df_final['loan_amnt'].apply(lambda x: int(x))\n",
    "df_final['open_acc'] = df_final['open_acc'].apply(lambda x: int(x))\n",
    "df_final[\"int_rate\"] = df_final[\"int_rate\"].apply(lambda x:float(x[:-1]) )\n",
    "df_final['last_pymnt_amnt'] = df['last_pymnt_amnt'].replace({',': '', 'n/a': '0', 'nan': 0}, regex = True)\n",
    "df_final['last_pymnt_amnt'] = df_final['last_pymnt_amnt'].astype(float).astype(int)\n",
    "df_final['annual_inc'] = df['annual_inc'].replace({',': '', 'n/a': '0', 'nan': 0}, regex = True)\n",
    "df_final['annual_inc'] = df_final['annual_inc'].astype(float).astype(int)\n",
    "df_final = df_final[features] \n",
    "df_final = df_final.sample(frac = 0.8)"
   ]
  },
  {
   "cell_type": "code",
   "execution_count": 4,
   "metadata": {},
   "outputs": [],
   "source": [
    "y = df_final['loan_status'].values\n",
    "X = df_final.drop(['loan_status'], axis = 1).values"
   ]
  },
  {
   "cell_type": "code",
   "execution_count": 5,
   "metadata": {},
   "outputs": [],
   "source": [
    "num_def = (y==0).sum()\n",
    "num_paid = (y==1).sum()"
   ]
  },
  {
   "cell_type": "code",
   "execution_count": 6,
   "metadata": {},
   "outputs": [],
   "source": [
    "X_train, X_test, y_train, y_test = train_test_split(X, y, test_size=0.2)"
   ]
  },
  {
   "cell_type": "markdown",
   "metadata": {},
   "source": [
    "### Visualization of the Class Imbalance: "
   ]
  },
  {
   "cell_type": "code",
   "execution_count": 7,
   "metadata": {},
   "outputs": [
    {
     "name": "stdout",
     "output_type": "stream",
     "text": [
      "loan_status\n",
      "0     4519\n",
      "1    27310\n",
      "dtype: int64\n"
     ]
    },
    {
     "data": {
      "image/png": "[encoded data removed]",
      "text/plain": [
       "<Figure size 432x288 with 1 Axes>"
      ]
     },
     "metadata": {
      "needs_background": "light"
     },
     "output_type": "display_data"
    }
   ],
   "source": [
    "import seaborn as sns\n",
    "\n",
    "print(df_final.groupby('loan_status').size())\n",
    "\n",
    "sns.countplot(x=\"loan_status\", data=df_final)\n",
    "plt.xlabel(\"Classes\")\n",
    "plt.ylabel(\"Frequencies\")\n",
    "plt.title(\"Class Imbalance Visualization\")\n",
    "plt.show()\n"
   ]
  },
  {
   "cell_type": "code",
   "execution_count": 8,
   "metadata": {},
   "outputs": [
    {
     "data": {
      "text/plain": [
       "LogisticRegression(C=1.0, class_weight=None, dual=False, fit_intercept=True,\n",
       "          intercept_scaling=1, max_iter=100, multi_class='warn',\n",
       "          n_jobs=None, penalty='l2', random_state=None, solver='warn',\n",
       "          tol=0.0001, verbose=0, warm_start=False)"
      ]
     },
     "execution_count": 8,
     "metadata": {},
     "output_type": "execute_result"
    }
   ],
   "source": [
    "from sklearn.linear_model import LogisticRegression\n",
    "from sklearn.metrics import confusion_matrix, classification_report\n",
    "lr = LogisticRegression()\n",
    "lr.fit(X_train, y_train)\n"
   ]
  },
  {
   "cell_type": "code",
   "execution_count": 9,
   "metadata": {},
   "outputs": [
    {
     "name": "stdout",
     "output_type": "stream",
     "text": [
      "0.8605089538171536\n",
      "0.8582256607626753\n"
     ]
    }
   ],
   "source": [
    "print(lr.score(X_test, y_test))\n",
    "print(lr.score(X_train, y_train))"
   ]
  },
  {
   "cell_type": "markdown",
   "metadata": {},
   "source": [
    "## Logistic Regression with balanced class weight.\n",
    "\n",
    "This was done so both classes are equal when the models are run. Doing this resulted in lowering of the accuracy score but, the recall / precision of the minority class went up. \n",
    "\n",
    "This is important as there is more of a risk to predicting a default incorrectly rather than predicting paid in full incorrectly. "
   ]
  },
  {
   "cell_type": "code",
   "execution_count": 10,
   "metadata": {},
   "outputs": [
    {
     "name": "stdout",
     "output_type": "stream",
     "text": [
      "0.6891297518064718\n",
      "0.6886462710599693\n"
     ]
    }
   ],
   "source": [
    "lr = LogisticRegression(class_weight = 'balanced')\n",
    "lr.fit(X_train, y_train)\n",
    "y_pred = lr.predict(X_test)\n",
    "print(lr.score(X_test, y_test))\n",
    "print(lr.score(X_train, y_train))\n"
   ]
  },
  {
   "cell_type": "code",
   "execution_count": 11,
   "metadata": {},
   "outputs": [
    {
     "name": "stdout",
     "output_type": "stream",
     "text": [
      "              precision    recall  f1-score   support\n",
      "\n",
      "           0       0.29      0.87      0.44       894\n",
      "           1       0.97      0.66      0.78      5472\n",
      "\n",
      "   micro avg       0.69      0.69      0.69      6366\n",
      "   macro avg       0.63      0.76      0.61      6366\n",
      "weighted avg       0.87      0.69      0.74      6366\n",
      "\n"
     ]
    }
   ],
   "source": [
    "from sklearn import metrics\n",
    "print(metrics.classification_report(y_test, y_pred))"
   ]
  },
  {
   "cell_type": "markdown",
   "metadata": {},
   "source": [
    "## GridSearch on Balanced Weights: \n",
    "\n",
    "To see the best score, Grid Search with various weights were used and the best parameters was used to check the accuracy score.\n",
    "\n",
    "Precision / recall is much balanced and the accuracy is higher based on GridSearch's class weights. \n",
    "\n",
    "### SMOTE oversampling was also done for Logistic Regression. "
   ]
  },
  {
   "cell_type": "code",
   "execution_count": 12,
   "metadata": {},
   "outputs": [
    {
     "name": "stdout",
     "output_type": "stream",
     "text": [
      "Best parameters : {'class_weight': {0: 0.381578947368421, 1: 0.618421052631579}}\n"
     ]
    },
    {
     "data": {
      "text/plain": [
       "<matplotlib.axes._subplots.AxesSubplot at 0x1236a56a0>"
      ]
     },
     "execution_count": 12,
     "metadata": {},
     "output_type": "execute_result"
    },
    {
     "data": {
      "image/png": "[encoded data removed]",
      "text/plain": [
       "<Figure size 432x288 with 1 Axes>"
      ]
     },
     "metadata": {
      "needs_background": "light"
     },
     "output_type": "display_data"
    }
   ],
   "source": [
    "from sklearn.model_selection import GridSearchCV\n",
    "\n",
    "weights = np.linspace(0.05, 0.95, 20)\n",
    "\n",
    "gsc = GridSearchCV(\n",
    "    estimator=LogisticRegression(),\n",
    "    param_grid={\n",
    "        'class_weight': [{0: x, 1: 1.0-x} for x in weights]\n",
    "    },\n",
    "    scoring='f1',\n",
    "    cv=3\n",
    ")\n",
    "grid_result = gsc.fit(X, y)\n",
    "\n",
    "print(\"Best parameters : %s\" % grid_result.best_params_)\n",
    "\n",
    "# Plot the weights vs f1 score\n",
    "dataz = pd.DataFrame({ 'score': grid_result.cv_results_['mean_test_score'],\n",
    "                       'weight': weights })\n",
    "dataz.plot(x='weight')"
   ]
  },
  {
   "cell_type": "code",
   "execution_count": 13,
   "metadata": {},
   "outputs": [
    {
     "name": "stdout",
     "output_type": "stream",
     "text": [
      "              precision    recall  f1-score   support\n",
      "\n",
      "           0       0.65      0.04      0.07       894\n",
      "           1       0.86      1.00      0.93      5472\n",
      "\n",
      "   micro avg       0.86      0.86      0.86      6366\n",
      "   macro avg       0.76      0.52      0.50      6366\n",
      "weighted avg       0.83      0.86      0.81      6366\n",
      "\n"
     ]
    }
   ],
   "source": [
    "lr = LogisticRegression(**grid_result.best_params_)\n",
    "\n",
    "# Fit..\n",
    "lr.fit(X_train, y_train)\n",
    "\n",
    "# Predict..\n",
    "y_pred = lr.predict(X_test)\n",
    "\n",
    "# Evaluate the model\n",
    "print(classification_report(y_test, y_pred))"
   ]
  },
  {
   "cell_type": "code",
   "execution_count": 14,
   "metadata": {},
   "outputs": [
    {
     "name": "stdout",
     "output_type": "stream",
     "text": [
      "              precision    recall  f1-score   support\n",
      "\n",
      "           0       0.30      0.86      0.45       894\n",
      "           1       0.97      0.68      0.80      5472\n",
      "\n",
      "   micro avg       0.70      0.70      0.70      6366\n",
      "   macro avg       0.63      0.77      0.62      6366\n",
      "weighted avg       0.87      0.70      0.75      6366\n",
      "\n"
     ]
    }
   ],
   "source": [
    "from imblearn.over_sampling import SMOTE\n",
    "from imblearn.pipeline import make_pipeline\n",
    "\n",
    "pipe = make_pipeline(\n",
    "    SMOTE(),\n",
    "    LogisticRegression()\n",
    ")\n",
    "\n",
    "# Fit..\n",
    "pipe.fit(X_train, y_train)\n",
    "\n",
    "# Predict..\n",
    "y_pred = pipe.predict(X_test)\n",
    "\n",
    "# Evaluate the model\n",
    "print(classification_report(y_test, y_pred))"
   ]
  },
  {
   "cell_type": "markdown",
   "metadata": {},
   "source": [
    "## Random Forest with balanced class weight.\n",
    "\n",
    "This was done so both classes are equal when the models are run. Doing this resulted in similar accuracy scores as before and recall/ precision score for the minority class went up.\n",
    "\n",
    "This is important as there is more of a risk to predicting a default incorrectly rather than predicting paid in full incorrectly. "
   ]
  },
  {
   "cell_type": "code",
   "execution_count": 15,
   "metadata": {},
   "outputs": [
    {
     "name": "stdout",
     "output_type": "stream",
     "text": [
      "0.9944232808388642\n"
     ]
    }
   ],
   "source": [
    "from sklearn.ensemble import RandomForestClassifier\n",
    "w = .9\n",
    "RF = RandomForestClassifier(class_weight='balanced')\n",
    "RF.fit(X_train, y_train)\n",
    "print(RF.score(X_train, y_train))"
   ]
  },
  {
   "cell_type": "code",
   "execution_count": 16,
   "metadata": {},
   "outputs": [],
   "source": [
    "y_pred = RF.predict(X_test)"
   ]
  },
  {
   "cell_type": "code",
   "execution_count": 17,
   "metadata": {},
   "outputs": [
    {
     "name": "stdout",
     "output_type": "stream",
     "text": [
      "0.8625510524662269\n"
     ]
    }
   ],
   "source": [
    "print(RF.score(X_test, y_test))"
   ]
  },
  {
   "cell_type": "code",
   "execution_count": 18,
   "metadata": {},
   "outputs": [
    {
     "name": "stdout",
     "output_type": "stream",
     "text": [
      "              precision    recall  f1-score   support\n",
      "\n",
      "           0       0.52      0.34      0.41       894\n",
      "           1       0.90      0.95      0.92      5472\n",
      "\n",
      "   micro avg       0.86      0.86      0.86      6366\n",
      "   macro avg       0.71      0.65      0.67      6366\n",
      "weighted avg       0.84      0.86      0.85      6366\n",
      "\n"
     ]
    }
   ],
   "source": [
    "print(classification_report(y_test, y_pred))"
   ]
  },
  {
   "cell_type": "markdown",
   "metadata": {},
   "source": [
    "## GridSearch on Balanced Weights: \n",
    "\n",
    "To see the best score, Grid Search with various weights were used and the best parameters was used to check the accuracy score.\n",
    "\n",
    "Precision / recall is much balanced and the accuracy is higher based on GridSearch's class weights. \n",
    "\n",
    "### SMOTE oversampling was also done for Random Forest Classifier. "
   ]
  },
  {
   "cell_type": "code",
   "execution_count": 19,
   "metadata": {},
   "outputs": [
    {
     "name": "stdout",
     "output_type": "stream",
     "text": [
      "Best parameters : {'class_weight': {0: 0.95, 1: 0.050000000000000044}}\n"
     ]
    },
    {
     "data": {
      "text/plain": [
       "<matplotlib.axes._subplots.AxesSubplot at 0x12368c048>"
      ]
     },
     "execution_count": 19,
     "metadata": {},
     "output_type": "execute_result"
    },
    {
     "data": {
      "image/png": "[encoded data removed]",
      "text/plain": [
       "<Figure size 432x288 with 1 Axes>"
      ]
     },
     "metadata": {
      "needs_background": "light"
     },
     "output_type": "display_data"
    }
   ],
   "source": [
    "from sklearn.model_selection import GridSearchCV\n",
    "\n",
    "weights = np.linspace(0.05, 0.95, 20)\n",
    "\n",
    "gsc = GridSearchCV(\n",
    "    estimator=RandomForestClassifier(),\n",
    "    param_grid={\n",
    "        'class_weight': [{0: x, 1: 1.0-x} for x in weights]\n",
    "    },\n",
    "    scoring='f1',\n",
    "    cv=3\n",
    ")\n",
    "grid_result = gsc.fit(X, y)\n",
    "\n",
    "print(\"Best parameters : %s\" % grid_result.best_params_)\n",
    "\n",
    "# Plot the weights vs f1 score\n",
    "dataz = pd.DataFrame({ 'score': grid_result.cv_results_['mean_test_score'],\n",
    "                       'weight': weights })\n",
    "dataz.plot(x='weight')"
   ]
  },
  {
   "cell_type": "code",
   "execution_count": 20,
   "metadata": {},
   "outputs": [
    {
     "name": "stdout",
     "output_type": "stream",
     "text": [
      "              precision    recall  f1-score   support\n",
      "\n",
      "           0       0.49      0.30      0.38       894\n",
      "           1       0.89      0.95      0.92      5472\n",
      "\n",
      "   micro avg       0.86      0.86      0.86      6366\n",
      "   macro avg       0.69      0.63      0.65      6366\n",
      "weighted avg       0.84      0.86      0.84      6366\n",
      "\n"
     ]
    }
   ],
   "source": [
    "RF = RandomForestClassifier(**grid_result.best_params_)\n",
    "\n",
    "# Fit..\n",
    "RF.fit(X_train, y_train)\n",
    "\n",
    "# Predict..\n",
    "y_pred = RF.predict(X_test)\n",
    "\n",
    "# Evaluate the model\n",
    "print(classification_report(y_test, y_pred))"
   ]
  },
  {
   "cell_type": "code",
   "execution_count": 21,
   "metadata": {},
   "outputs": [
    {
     "name": "stdout",
     "output_type": "stream",
     "text": [
      "0.8583097706566133\n"
     ]
    }
   ],
   "source": [
    "print(RF.score(X_test, y_test))"
   ]
  },
  {
   "cell_type": "code",
   "execution_count": 22,
   "metadata": {},
   "outputs": [
    {
     "name": "stdout",
     "output_type": "stream",
     "text": [
      "              precision    recall  f1-score   support\n",
      "\n",
      "           0       0.42      0.42      0.42       894\n",
      "           1       0.91      0.91      0.91      5472\n",
      "\n",
      "   micro avg       0.84      0.84      0.84      6366\n",
      "   macro avg       0.67      0.66      0.66      6366\n",
      "weighted avg       0.84      0.84      0.84      6366\n",
      "\n"
     ]
    }
   ],
   "source": [
    "from imblearn.over_sampling import SMOTE\n",
    "from imblearn.pipeline import make_pipeline\n",
    "\n",
    "pipe = make_pipeline(\n",
    "    SMOTE(),\n",
    "   RandomForestClassifier()\n",
    ")\n",
    "\n",
    "# Fit..\n",
    "pipe.fit(X_train, y_train)\n",
    "\n",
    "# Predict..\n",
    "y_pred = pipe.predict(X_test)\n",
    "\n",
    "# Evaluate the model\n",
    "print(classification_report(y_test, y_pred))"
   ]
  },
  {
   "cell_type": "code",
   "execution_count": 23,
   "metadata": {},
   "outputs": [
    {
     "data": {
      "text/plain": [
       "0.8385171222117499"
      ]
     },
     "execution_count": 23,
     "metadata": {},
     "output_type": "execute_result"
    }
   ],
   "source": [
    "pipe.score(X_test, y_test)"
   ]
  },
  {
   "cell_type": "code",
   "execution_count": 24,
   "metadata": {},
   "outputs": [
    {
     "data": {
      "text/plain": [
       "0.9945018261791619"
      ]
     },
     "execution_count": 24,
     "metadata": {},
     "output_type": "execute_result"
    }
   ],
   "source": [
    "pipe.score(X_train, y_train)"
   ]
  }
 ],
 "metadata": {
  "kernelspec": {
   "display_name": "Python 3",
   "language": "python",
   "name": "python3"
  },
  "language_info": {
   "codemirror_mode": {
    "name": "ipython",
    "version": 3
   },
   "file_extension": ".py",
   "mimetype": "text/x-python",
   "name": "python",
   "nbconvert_exporter": "python",
   "pygments_lexer": "ipython3",
   "version": "3.7.1"
  }
 },
 "nbformat": 4,
 "nbformat_minor": 2
}
